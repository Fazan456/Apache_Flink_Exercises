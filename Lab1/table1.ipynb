{
 "cells": [
  {
   "cell_type": "code",
   "execution_count": 22,
   "metadata": {},
   "outputs": [],
   "source": [
    "from faker import Faker\n",
    "from pyflink.table import EnvironmentSettings, TableEnvironment"
   ]
  },
  {
   "cell_type": "code",
   "execution_count": 23,
   "metadata": {},
   "outputs": [],
   "source": [
    "env_settings = EnvironmentSettings.in_batch_mode()\n",
    "table_env = TableEnvironment.create(env_settings)"
   ]
  },
  {
   "cell_type": "code",
   "execution_count": 24,
   "metadata": {},
   "outputs": [],
   "source": [
    "fake = Faker()"
   ]
  },
  {
   "cell_type": "code",
   "execution_count": 25,
   "metadata": {},
   "outputs": [],
   "source": [
    "data = [(fake.name(), fake.city(), fake.city()) for _ in range(10)]"
   ]
  },
  {
   "cell_type": "code",
   "execution_count": 26,
   "metadata": {},
   "outputs": [],
   "source": [
    "columns_name = ['name', 'city', 'state']"
   ]
  },
  {
   "cell_type": "code",
   "execution_count": 27,
   "metadata": {},
   "outputs": [],
   "source": [
    "table = table_env.from_elements(data, schema = col)"
   ]
  },
  {
   "cell_type": "code",
   "execution_count": 28,
   "metadata": {},
   "outputs": [
    {
     "data": {
      "text/plain": [
       "<pyflink.table.table_result.TableResult at 0x7e747842ff40>"
      ]
     },
     "execution_count": 28,
     "metadata": {},
     "output_type": "execute_result"
    }
   ],
   "source": [
    "table.execute()"
   ]
  },
  {
   "cell_type": "code",
   "execution_count": 29,
   "metadata": {},
   "outputs": [],
   "source": [
    "table_env.create_temporary_view('source_table', table)"
   ]
  },
  {
   "cell_type": "code",
   "execution_count": 30,
   "metadata": {},
   "outputs": [
    {
     "name": "stdout",
     "output_type": "stream",
     "text": [
      "+--------------------------------+--------------------------------+--------------------------------+\n",
      "|                           name |                           city |                          state |\n",
      "+--------------------------------+--------------------------------+--------------------------------+\n",
      "|                    Brian Kelly |                    Marissaberg |                    Edwardsfort |\n",
      "|                    Donna Jones |                    Connerville |                     North John |\n",
      "|                 Cynthia Obrien |                    Barbermouth |                   Clarkchester |\n",
      "|                   Ashley Jones |                   East Richard |                      Fritzview |\n",
      "|                   Richard Dunn |                   Colleenhaven |               South Carriestad |\n",
      "|              Joseph Montgomery |                   South Alison |                       Smithton |\n",
      "|                 Bonnie Camacho |                    Alvarezfort |                    Rebeccafort |\n",
      "|                  Carolyn Johns |                  West Billyton |                   Fergusonport |\n",
      "|                    Jeremy Reed |                    Williamtown |                     Lake Sarah |\n",
      "|                 Jonathan Green |                    Francisport |                      Ninamouth |\n",
      "+--------------------------------+--------------------------------+--------------------------------+\n",
      "10 rows in set\n"
     ]
    }
   ],
   "source": [
    "table_env.execute_sql(f\"SELECT * FROM source_table\").print()"
   ]
  },
  {
   "cell_type": "code",
   "execution_count": 37,
   "metadata": {},
   "outputs": [
    {
     "name": "stdout",
     "output_type": "stream",
     "text": [
      "+--------------------------------+--------------------------------+\n",
      "|                           name |                           city |\n",
      "+--------------------------------+--------------------------------+\n",
      "|                    Brian Kelly |                    Marissaberg |\n",
      "|                    Donna Jones |                    Connerville |\n",
      "|                 Cynthia Obrien |                    Barbermouth |\n",
      "|                   Ashley Jones |                   East Richard |\n",
      "|                   Richard Dunn |                   Colleenhaven |\n",
      "|              Joseph Montgomery |                   South Alison |\n",
      "|                 Bonnie Camacho |                    Alvarezfort |\n",
      "|                  Carolyn Johns |                  West Billyton |\n",
      "|                    Jeremy Reed |                    Williamtown |\n",
      "|                 Jonathan Green |                    Francisport |\n",
      "+--------------------------------+--------------------------------+\n",
      "10 rows in set\n"
     ]
    }
   ],
   "source": [
    "from pyflink.table.expressions import col\n",
    "table.select(col(\"name\"), col(\"city\")).execute().print()"
   ]
  },
  {
   "cell_type": "code",
   "execution_count": 40,
   "metadata": {},
   "outputs": [
    {
     "name": "stdout",
     "output_type": "stream",
     "text": [
      "+--------------------------------+--------------------------------+--------------------------------+\n",
      "|                           name |                           city |                          state |\n",
      "+--------------------------------+--------------------------------+--------------------------------+\n",
      "|                   Ashley Jones |                   East Richard |                      Fritzview |\n",
      "+--------------------------------+--------------------------------+--------------------------------+\n",
      "1 row in set\n"
     ]
    }
   ],
   "source": [
    "table \\\n",
    "    .select(col(\"name\"), col(\"city\"), col(\"state\")) \\\n",
    "    .where(col(\"state\") == 'Fritzview') \\\n",
    "    .execute().print()"
   ]
  },
  {
   "cell_type": "code",
   "execution_count": 39,
   "metadata": {},
   "outputs": [
    {
     "name": "stdout",
     "output_type": "stream",
     "text": [
      "+--------------------------------+----------------------+\n",
      "|                          state |                count |\n",
      "+--------------------------------+----------------------+\n",
      "|                     North John |                    1 |\n",
      "|                    Rebeccafort |                    1 |\n",
      "|                   Clarkchester |                    1 |\n",
      "|                       Smithton |                    1 |\n",
      "|                   Fergusonport |                    1 |\n",
      "|                      Ninamouth |                    1 |\n",
      "|               South Carriestad |                    1 |\n",
      "|                    Edwardsfort |                    1 |\n",
      "|                      Fritzview |                    1 |\n",
      "|                     Lake Sarah |                    1 |\n",
      "+--------------------------------+----------------------+\n",
      "10 rows in set\n"
     ]
    }
   ],
   "source": [
    "table \\\n",
    "    .group_by(col(\"state\")) \\\n",
    "    .select(col(\"state\").alias(\"state\"), col(\"name\").count.alias(\"count\")) \\\n",
    "    .execute().print()"
   ]
  },
  {
   "cell_type": "code",
   "execution_count": 41,
   "metadata": {},
   "outputs": [],
   "source": [
    "table_result = table_env.execute_sql(f\"SELECT * FROM source_table \")"
   ]
  },
  {
   "cell_type": "code",
   "execution_count": 42,
   "metadata": {},
   "outputs": [
    {
     "name": "stdout",
     "output_type": "stream",
     "text": [
      "<Row('Brian Kelly', 'Marissaberg', 'Edwardsfort')>\n",
      "<Row('Donna Jones', 'Connerville', 'North John')>\n",
      "<Row('Cynthia Obrien', 'Barbermouth', 'Clarkchester')>\n",
      "<Row('Ashley Jones', 'East Richard', 'Fritzview')>\n",
      "<Row('Richard Dunn', 'Colleenhaven', 'South Carriestad')>\n",
      "<Row('Joseph Montgomery', 'South Alison', 'Smithton')>\n",
      "<Row('Bonnie Camacho', 'Alvarezfort', 'Rebeccafort')>\n",
      "<Row('Carolyn Johns', 'West Billyton', 'Fergusonport')>\n",
      "<Row('Jeremy Reed', 'Williamtown', 'Lake Sarah')>\n",
      "<Row('Jonathan Green', 'Francisport', 'Ninamouth')>\n"
     ]
    }
   ],
   "source": [
    "with table_result.collect() as results:\n",
    "   for result in results:\n",
    "       print(result)"
   ]
  },
  {
   "cell_type": "code",
   "execution_count": 43,
   "metadata": {},
   "outputs": [
    {
     "data": {
      "text/html": [
       "<div>\n",
       "<style scoped>\n",
       "    .dataframe tbody tr th:only-of-type {\n",
       "        vertical-align: middle;\n",
       "    }\n",
       "\n",
       "    .dataframe tbody tr th {\n",
       "        vertical-align: top;\n",
       "    }\n",
       "\n",
       "    .dataframe thead th {\n",
       "        text-align: right;\n",
       "    }\n",
       "</style>\n",
       "<table border=\"1\" class=\"dataframe\">\n",
       "  <thead>\n",
       "    <tr style=\"text-align: right;\">\n",
       "      <th></th>\n",
       "      <th>name</th>\n",
       "      <th>city</th>\n",
       "      <th>state</th>\n",
       "    </tr>\n",
       "  </thead>\n",
       "  <tbody>\n",
       "    <tr>\n",
       "      <th>0</th>\n",
       "      <td>Brian Kelly</td>\n",
       "      <td>Marissaberg</td>\n",
       "      <td>Edwardsfort</td>\n",
       "    </tr>\n",
       "    <tr>\n",
       "      <th>1</th>\n",
       "      <td>Donna Jones</td>\n",
       "      <td>Connerville</td>\n",
       "      <td>North John</td>\n",
       "    </tr>\n",
       "    <tr>\n",
       "      <th>2</th>\n",
       "      <td>Cynthia Obrien</td>\n",
       "      <td>Barbermouth</td>\n",
       "      <td>Clarkchester</td>\n",
       "    </tr>\n",
       "    <tr>\n",
       "      <th>3</th>\n",
       "      <td>Ashley Jones</td>\n",
       "      <td>East Richard</td>\n",
       "      <td>Fritzview</td>\n",
       "    </tr>\n",
       "    <tr>\n",
       "      <th>4</th>\n",
       "      <td>Richard Dunn</td>\n",
       "      <td>Colleenhaven</td>\n",
       "      <td>South Carriestad</td>\n",
       "    </tr>\n",
       "    <tr>\n",
       "      <th>5</th>\n",
       "      <td>Joseph Montgomery</td>\n",
       "      <td>South Alison</td>\n",
       "      <td>Smithton</td>\n",
       "    </tr>\n",
       "    <tr>\n",
       "      <th>6</th>\n",
       "      <td>Bonnie Camacho</td>\n",
       "      <td>Alvarezfort</td>\n",
       "      <td>Rebeccafort</td>\n",
       "    </tr>\n",
       "    <tr>\n",
       "      <th>7</th>\n",
       "      <td>Carolyn Johns</td>\n",
       "      <td>West Billyton</td>\n",
       "      <td>Fergusonport</td>\n",
       "    </tr>\n",
       "    <tr>\n",
       "      <th>8</th>\n",
       "      <td>Jeremy Reed</td>\n",
       "      <td>Williamtown</td>\n",
       "      <td>Lake Sarah</td>\n",
       "    </tr>\n",
       "    <tr>\n",
       "      <th>9</th>\n",
       "      <td>Jonathan Green</td>\n",
       "      <td>Francisport</td>\n",
       "      <td>Ninamouth</td>\n",
       "    </tr>\n",
       "  </tbody>\n",
       "</table>\n",
       "</div>"
      ],
      "text/plain": [
       "                name           city             state\n",
       "0        Brian Kelly    Marissaberg       Edwardsfort\n",
       "1        Donna Jones    Connerville        North John\n",
       "2     Cynthia Obrien    Barbermouth      Clarkchester\n",
       "3       Ashley Jones   East Richard         Fritzview\n",
       "4       Richard Dunn   Colleenhaven  South Carriestad\n",
       "5  Joseph Montgomery   South Alison          Smithton\n",
       "6     Bonnie Camacho    Alvarezfort       Rebeccafort\n",
       "7      Carolyn Johns  West Billyton      Fergusonport\n",
       "8        Jeremy Reed    Williamtown        Lake Sarah\n",
       "9     Jonathan Green    Francisport         Ninamouth"
      ]
     },
     "execution_count": 43,
     "metadata": {},
     "output_type": "execute_result"
    }
   ],
   "source": [
    "pandas_df = table.to_pandas()\n",
    "pandas_df\n"
   ]
  },
  {
   "cell_type": "code",
   "execution_count": 45,
   "metadata": {},
   "outputs": [
    {
     "name": "stdout",
     "output_type": "stream",
     "text": [
      "+--------------------------------+--------------------------------+--------------------------------+\n",
      "|                           name |                           city |                          state |\n",
      "+--------------------------------+--------------------------------+--------------------------------+\n",
      "|                    Brian Kelly |                    Marissaberg |                    Edwardsfort |\n",
      "|                    Donna Jones |                    Connerville |                     North John |\n",
      "|                 Cynthia Obrien |                    Barbermouth |                   Clarkchester |\n",
      "|                   Ashley Jones |                   East Richard |                      Fritzview |\n",
      "|                   Richard Dunn |                   Colleenhaven |               South Carriestad |\n",
      "|              Joseph Montgomery |                   South Alison |                       Smithton |\n",
      "|                 Bonnie Camacho |                    Alvarezfort |                    Rebeccafort |\n",
      "|                  Carolyn Johns |                  West Billyton |                   Fergusonport |\n",
      "|                    Jeremy Reed |                    Williamtown |                     Lake Sarah |\n",
      "|                 Jonathan Green |                    Francisport |                      Ninamouth |\n",
      "+--------------------------------+--------------------------------+--------------------------------+\n",
      "10 rows in set\n"
     ]
    }
   ],
   "source": [
    "table_temp = table_env.from_pandas(pandas_df)\n",
    "table_temp.execute().print()"
   ]
  },
  {
   "cell_type": "code",
   "execution_count": 46,
   "metadata": {},
   "outputs": [
    {
     "name": "stdout",
     "output_type": "stream",
     "text": [
      "+--------------------------------+--------------------------------+--------------------------------+\n",
      "|                           name |                           city |                          state |\n",
      "+--------------------------------+--------------------------------+--------------------------------+\n",
      "|                    Brian Kelly |                    Marissaberg |                    Edwardsfort |\n",
      "|                    Donna Jones |                    Connerville |                     North John |\n",
      "|                 Cynthia Obrien |                    Barbermouth |                   Clarkchester |\n",
      "|                   Ashley Jones |                   East Richard |                      Fritzview |\n",
      "|                   Richard Dunn |                   Colleenhaven |               South Carriestad |\n",
      "|              Joseph Montgomery |                   South Alison |                       Smithton |\n",
      "|                 Bonnie Camacho |                    Alvarezfort |                    Rebeccafort |\n",
      "|                  Carolyn Johns |                  West Billyton |                   Fergusonport |\n",
      "|                    Jeremy Reed |                    Williamtown |                     Lake Sarah |\n",
      "|                 Jonathan Green |                    Francisport |                      Ninamouth |\n",
      "+--------------------------------+--------------------------------+--------------------------------+\n",
      "10 rows in set\n"
     ]
    }
   ],
   "source": [
    "table.execute().print()"
   ]
  },
  {
   "cell_type": "code",
   "execution_count": 51,
   "metadata": {},
   "outputs": [],
   "source": [
    "# import uuid\n",
    "# import functools  # Import functools\n",
    "\n",
    "# from pyflink.table.udf import udf\n",
    "# from pyflink.table.expressions import col, call\n",
    "# from pyflink.table import TableEnvironment, EnvironmentSettings\n",
    "\n",
    "\n",
    "\n",
    "# def generate_guid():\n",
    "#     return str(uuid.uuid4())\n",
    "\n",
    "\n",
    "# myhash = udf(functools.partial(a), result_type='STRING')\n",
    "\n",
    "# result_table = table.select(col(\"city\"), col(\"name\"), call(myhash).alias(\"guid\"))\n",
    "\n",
    "# result_table.execute().print()\n"
   ]
  }
 ],
 "metadata": {
  "kernelspec": {
   "display_name": "Python 3",
   "language": "python",
   "name": "python3"
  },
  "language_info": {
   "codemirror_mode": {
    "name": "ipython",
    "version": 3
   },
   "file_extension": ".py",
   "mimetype": "text/x-python",
   "name": "python",
   "nbconvert_exporter": "python",
   "pygments_lexer": "ipython3",
   "version": "3.10.12"
  }
 },
 "nbformat": 4,
 "nbformat_minor": 2
}
